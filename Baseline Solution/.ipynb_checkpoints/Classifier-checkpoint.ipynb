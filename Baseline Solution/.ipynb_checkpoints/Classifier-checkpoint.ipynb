{
 "cells": [
  {
   "cell_type": "code",
   "execution_count": 1,
   "metadata": {},
   "outputs": [],
   "source": [
    "import textdistance\n",
    "import string\n",
    "import os\n",
    "import json\n",
    "import pandas as pd\n",
    "import numpy as np\n",
    "import matplotlib.pyplot as plt\n",
    "from collections import Counter\n",
    "from sklearn.ensemble import RandomForestClassifier\n",
    "from sklearn.model_selection import train_test_split, cross_validate\n",
    "from sklearn.metrics import precision_recall_curve, roc_auc_score, roc_curve, auc, precision_score, recall_score, accuracy_score, f1_score"
   ]
  },
  {
   "cell_type": "code",
   "execution_count": 2,
   "metadata": {},
   "outputs": [],
   "source": [
    "def process_text(s):\n",
    "    # lower case\n",
    "    s_out = s.lower()\n",
    "    # remove punctuation\n",
    "    punctuation_remover = str.maketrans('', '', string.punctuation)\n",
    "    s_out = s_out.translate(punctuation_remover)\n",
    "    return s_out"
   ]
  },
  {
   "cell_type": "code",
   "execution_count": 3,
   "metadata": {},
   "outputs": [],
   "source": [
    "data=pd.read_csv(r\"english.csv\")"
   ]
  },
  {
   "cell_type": "code",
   "execution_count": 4,
   "metadata": {},
   "outputs": [
    {
     "data": {
      "text/html": [
       "<div>\n",
       "<style scoped>\n",
       "    .dataframe tbody tr th:only-of-type {\n",
       "        vertical-align: middle;\n",
       "    }\n",
       "\n",
       "    .dataframe tbody tr th {\n",
       "        vertical-align: top;\n",
       "    }\n",
       "\n",
       "    .dataframe thead th {\n",
       "        text-align: right;\n",
       "    }\n",
       "</style>\n",
       "<table border=\"1\" class=\"dataframe\">\n",
       "  <thead>\n",
       "    <tr style=\"text-align: right;\">\n",
       "      <th></th>\n",
       "      <th>Confidence</th>\n",
       "    </tr>\n",
       "  </thead>\n",
       "  <tbody>\n",
       "    <tr>\n",
       "      <td>count</td>\n",
       "      <td>4813.000000</td>\n",
       "    </tr>\n",
       "    <tr>\n",
       "      <td>mean</td>\n",
       "      <td>0.867328</td>\n",
       "    </tr>\n",
       "    <tr>\n",
       "      <td>std</td>\n",
       "      <td>0.099389</td>\n",
       "    </tr>\n",
       "    <tr>\n",
       "      <td>min</td>\n",
       "      <td>0.247828</td>\n",
       "    </tr>\n",
       "    <tr>\n",
       "      <td>25%</td>\n",
       "      <td>0.834124</td>\n",
       "    </tr>\n",
       "    <tr>\n",
       "      <td>50%</td>\n",
       "      <td>0.927315</td>\n",
       "    </tr>\n",
       "    <tr>\n",
       "      <td>75%</td>\n",
       "      <td>0.929955</td>\n",
       "    </tr>\n",
       "    <tr>\n",
       "      <td>max</td>\n",
       "      <td>0.929955</td>\n",
       "    </tr>\n",
       "  </tbody>\n",
       "</table>\n",
       "</div>"
      ],
      "text/plain": [
       "        Confidence\n",
       "count  4813.000000\n",
       "mean      0.867328\n",
       "std       0.099389\n",
       "min       0.247828\n",
       "25%       0.834124\n",
       "50%       0.927315\n",
       "75%       0.929955\n",
       "max       0.929955"
      ]
     },
     "execution_count": 4,
     "metadata": {},
     "output_type": "execute_result"
    }
   ],
   "source": [
    "data.describe()"
   ]
  },
  {
   "cell_type": "code",
   "execution_count": 5,
   "metadata": {},
   "outputs": [
    {
     "data": {
      "text/html": [
       "<div>\n",
       "<style scoped>\n",
       "    .dataframe tbody tr th:only-of-type {\n",
       "        vertical-align: middle;\n",
       "    }\n",
       "\n",
       "    .dataframe tbody tr th {\n",
       "        vertical-align: top;\n",
       "    }\n",
       "\n",
       "    .dataframe thead th {\n",
       "        text-align: right;\n",
       "    }\n",
       "</style>\n",
       "<table border=\"1\" class=\"dataframe\">\n",
       "  <thead>\n",
       "    <tr style=\"text-align: right;\">\n",
       "      <th></th>\n",
       "      <th>Student</th>\n",
       "      <th>Proficiency</th>\n",
       "      <th>Ground Truth</th>\n",
       "      <th>IsCorrect</th>\n",
       "      <th>Transcript</th>\n",
       "      <th>Confidence</th>\n",
       "    </tr>\n",
       "  </thead>\n",
       "  <tbody>\n",
       "    <tr>\n",
       "      <td>0</td>\n",
       "      <td>1378_HI_S1_S_0</td>\n",
       "      <td>S</td>\n",
       "      <td>Where is your house?</td>\n",
       "      <td>True</td>\n",
       "      <td>where is your home</td>\n",
       "      <td>0.929955</td>\n",
       "    </tr>\n",
       "    <tr>\n",
       "      <td>1</td>\n",
       "      <td>1384_HI_S1_S_0</td>\n",
       "      <td>S</td>\n",
       "      <td>Where is your house?</td>\n",
       "      <td>True</td>\n",
       "      <td>where is your house</td>\n",
       "      <td>0.929955</td>\n",
       "    </tr>\n",
       "    <tr>\n",
       "      <td>2</td>\n",
       "      <td>1389_HI_S1_S_0</td>\n",
       "      <td>S</td>\n",
       "      <td>Where is your house?</td>\n",
       "      <td>True</td>\n",
       "      <td>where is your house</td>\n",
       "      <td>0.929955</td>\n",
       "    </tr>\n",
       "    <tr>\n",
       "      <td>3</td>\n",
       "      <td>1399_HI_S1_S_0</td>\n",
       "      <td>S</td>\n",
       "      <td>Where is your house?</td>\n",
       "      <td>True</td>\n",
       "      <td>where is your house</td>\n",
       "      <td>0.929955</td>\n",
       "    </tr>\n",
       "    <tr>\n",
       "      <td>4</td>\n",
       "      <td>1402_HI_S1_S_0</td>\n",
       "      <td>S</td>\n",
       "      <td>Where is your house?</td>\n",
       "      <td>True</td>\n",
       "      <td>where is your house</td>\n",
       "      <td>0.929955</td>\n",
       "    </tr>\n",
       "  </tbody>\n",
       "</table>\n",
       "</div>"
      ],
      "text/plain": [
       "          Student Proficiency          Ground Truth  IsCorrect  \\\n",
       "0  1378_HI_S1_S_0           S  Where is your house?       True   \n",
       "1  1384_HI_S1_S_0           S  Where is your house?       True   \n",
       "2  1389_HI_S1_S_0           S  Where is your house?       True   \n",
       "3  1399_HI_S1_S_0           S  Where is your house?       True   \n",
       "4  1402_HI_S1_S_0           S  Where is your house?       True   \n",
       "\n",
       "            Transcript Confidence  \n",
       "0   where is your home   0.929955  \n",
       "1  where is your house   0.929955  \n",
       "2  where is your house   0.929955  \n",
       "3  where is your house   0.929955  \n",
       "4  where is your house   0.929955  "
      ]
     },
     "execution_count": 5,
     "metadata": {},
     "output_type": "execute_result"
    }
   ],
   "source": [
    "data.fillna(value=\"\", inplace=True)\n",
    "data.head()"
   ]
  },
  {
   "cell_type": "code",
   "execution_count": 6,
   "metadata": {},
   "outputs": [
    {
     "data": {
      "text/html": [
       "<div>\n",
       "<style scoped>\n",
       "    .dataframe tbody tr th:only-of-type {\n",
       "        vertical-align: middle;\n",
       "    }\n",
       "\n",
       "    .dataframe tbody tr th {\n",
       "        vertical-align: top;\n",
       "    }\n",
       "\n",
       "    .dataframe thead th {\n",
       "        text-align: right;\n",
       "    }\n",
       "</style>\n",
       "<table border=\"1\" class=\"dataframe\">\n",
       "  <thead>\n",
       "    <tr style=\"text-align: right;\">\n",
       "      <th></th>\n",
       "      <th>Student</th>\n",
       "      <th>Proficiency</th>\n",
       "      <th>Ground Truth</th>\n",
       "      <th>IsCorrect</th>\n",
       "      <th>Transcript</th>\n",
       "      <th>Confidence</th>\n",
       "    </tr>\n",
       "  </thead>\n",
       "  <tbody>\n",
       "    <tr>\n",
       "      <td>count</td>\n",
       "      <td>5319</td>\n",
       "      <td>5319</td>\n",
       "      <td>5319</td>\n",
       "      <td>5319</td>\n",
       "      <td>5319</td>\n",
       "      <td>5319.000000</td>\n",
       "    </tr>\n",
       "    <tr>\n",
       "      <td>unique</td>\n",
       "      <td>5319</td>\n",
       "      <td>1</td>\n",
       "      <td>22</td>\n",
       "      <td>2</td>\n",
       "      <td>1355</td>\n",
       "      <td>2510.000000</td>\n",
       "    </tr>\n",
       "    <tr>\n",
       "      <td>top</td>\n",
       "      <td>1056_MR_S1_S_2</td>\n",
       "      <td>S</td>\n",
       "      <td>Where is your house?</td>\n",
       "      <td>True</td>\n",
       "      <td></td>\n",
       "      <td>0.929955</td>\n",
       "    </tr>\n",
       "    <tr>\n",
       "      <td>freq</td>\n",
       "      <td>1</td>\n",
       "      <td>5319</td>\n",
       "      <td>760</td>\n",
       "      <td>4038</td>\n",
       "      <td>506</td>\n",
       "      <td>2191.000000</td>\n",
       "    </tr>\n",
       "  </tbody>\n",
       "</table>\n",
       "</div>"
      ],
      "text/plain": [
       "               Student Proficiency          Ground Truth IsCorrect Transcript  \\\n",
       "count             5319        5319                  5319      5319       5319   \n",
       "unique            5319           1                    22         2       1355   \n",
       "top     1056_MR_S1_S_2           S  Where is your house?      True              \n",
       "freq                 1        5319                   760      4038        506   \n",
       "\n",
       "         Confidence  \n",
       "count   5319.000000  \n",
       "unique  2510.000000  \n",
       "top        0.929955  \n",
       "freq    2191.000000  "
      ]
     },
     "execution_count": 6,
     "metadata": {},
     "output_type": "execute_result"
    }
   ],
   "source": [
    "data.describe()"
   ]
  },
  {
   "cell_type": "code",
   "execution_count": 7,
   "metadata": {},
   "outputs": [
    {
     "name": "stdout",
     "output_type": "stream",
     "text": [
      "          Distance\n",
      "count  5319.000000\n",
      "mean      0.777297\n",
      "std       0.351534\n",
      "min       0.000000\n",
      "25%       0.707107\n",
      "50%       1.000000\n",
      "75%       1.000000\n",
      "max       1.000000\n"
     ]
    }
   ],
   "source": [
    "import math\n",
    "import numpy as np\n",
    "import pandas as pd\n",
    "import matplotlib.pyplot as pyplot\n",
    "from sklearn.metrics.pairwise import cosine_similarity\n",
    "from sklearn.feature_extraction.text import TfidfVectorizer\n",
    "vectorizer = TfidfVectorizer()\n",
    "\n",
    "vectorizer = TfidfVectorizer()\n",
    "df=pd.DataFrame()\n",
    "for index, row in data.iterrows():     \n",
    "    corpus = [row['Ground Truth']]\n",
    "    z=0\n",
    "    X = vectorizer.fit_transform(corpus)\n",
    "    query = [process_text(row['Transcript'])]\n",
    "    Y = vectorizer.transform(query)\n",
    "    z=cosine_similarity(Y, X.toarray())\n",
    "    #z = textdistance.jaro_winkler(corpus, query)\n",
    " #   transcript=query\n",
    "    temp = pd.DataFrame([row])\n",
    "    temp['Distance']=z\n",
    "    df=df.append(temp)\n",
    "print(df.describe())\n",
    "    \n"
   ]
  },
  {
   "cell_type": "code",
   "execution_count": 8,
   "metadata": {},
   "outputs": [
    {
     "data": {
      "text/html": [
       "<div>\n",
       "<style scoped>\n",
       "    .dataframe tbody tr th:only-of-type {\n",
       "        vertical-align: middle;\n",
       "    }\n",
       "\n",
       "    .dataframe tbody tr th {\n",
       "        vertical-align: top;\n",
       "    }\n",
       "\n",
       "    .dataframe thead th {\n",
       "        text-align: right;\n",
       "    }\n",
       "</style>\n",
       "<table border=\"1\" class=\"dataframe\">\n",
       "  <thead>\n",
       "    <tr style=\"text-align: right;\">\n",
       "      <th></th>\n",
       "      <th>Student</th>\n",
       "      <th>Proficiency</th>\n",
       "      <th>Ground Truth</th>\n",
       "      <th>IsCorrect</th>\n",
       "      <th>Transcript</th>\n",
       "      <th>Confidence</th>\n",
       "      <th>Distance</th>\n",
       "    </tr>\n",
       "  </thead>\n",
       "  <tbody>\n",
       "    <tr>\n",
       "      <td>0</td>\n",
       "      <td>1378_HI_S1_S_0</td>\n",
       "      <td>S</td>\n",
       "      <td>Where is your house?</td>\n",
       "      <td>True</td>\n",
       "      <td>where is your home</td>\n",
       "      <td>0.929955</td>\n",
       "      <td>0.866025</td>\n",
       "    </tr>\n",
       "    <tr>\n",
       "      <td>1</td>\n",
       "      <td>1384_HI_S1_S_0</td>\n",
       "      <td>S</td>\n",
       "      <td>Where is your house?</td>\n",
       "      <td>True</td>\n",
       "      <td>where is your house</td>\n",
       "      <td>0.929955</td>\n",
       "      <td>1.000000</td>\n",
       "    </tr>\n",
       "    <tr>\n",
       "      <td>2</td>\n",
       "      <td>1389_HI_S1_S_0</td>\n",
       "      <td>S</td>\n",
       "      <td>Where is your house?</td>\n",
       "      <td>True</td>\n",
       "      <td>where is your house</td>\n",
       "      <td>0.929955</td>\n",
       "      <td>1.000000</td>\n",
       "    </tr>\n",
       "    <tr>\n",
       "      <td>3</td>\n",
       "      <td>1399_HI_S1_S_0</td>\n",
       "      <td>S</td>\n",
       "      <td>Where is your house?</td>\n",
       "      <td>True</td>\n",
       "      <td>where is your house</td>\n",
       "      <td>0.929955</td>\n",
       "      <td>1.000000</td>\n",
       "    </tr>\n",
       "    <tr>\n",
       "      <td>4</td>\n",
       "      <td>1402_HI_S1_S_0</td>\n",
       "      <td>S</td>\n",
       "      <td>Where is your house?</td>\n",
       "      <td>True</td>\n",
       "      <td>where is your house</td>\n",
       "      <td>0.929955</td>\n",
       "      <td>1.000000</td>\n",
       "    </tr>\n",
       "  </tbody>\n",
       "</table>\n",
       "</div>"
      ],
      "text/plain": [
       "          Student Proficiency          Ground Truth  IsCorrect  \\\n",
       "0  1378_HI_S1_S_0           S  Where is your house?       True   \n",
       "1  1384_HI_S1_S_0           S  Where is your house?       True   \n",
       "2  1389_HI_S1_S_0           S  Where is your house?       True   \n",
       "3  1399_HI_S1_S_0           S  Where is your house?       True   \n",
       "4  1402_HI_S1_S_0           S  Where is your house?       True   \n",
       "\n",
       "            Transcript Confidence  Distance  \n",
       "0   where is your home   0.929955  0.866025  \n",
       "1  where is your house   0.929955  1.000000  \n",
       "2  where is your house   0.929955  1.000000  \n",
       "3  where is your house   0.929955  1.000000  \n",
       "4  where is your house   0.929955  1.000000  "
      ]
     },
     "execution_count": 8,
     "metadata": {},
     "output_type": "execute_result"
    }
   ],
   "source": [
    "df.head()"
   ]
  },
  {
   "cell_type": "code",
   "execution_count": 9,
   "metadata": {},
   "outputs": [
    {
     "data": {
      "text/html": [
       "<div>\n",
       "<style scoped>\n",
       "    .dataframe tbody tr th:only-of-type {\n",
       "        vertical-align: middle;\n",
       "    }\n",
       "\n",
       "    .dataframe tbody tr th {\n",
       "        vertical-align: top;\n",
       "    }\n",
       "\n",
       "    .dataframe thead th {\n",
       "        text-align: right;\n",
       "    }\n",
       "</style>\n",
       "<table border=\"1\" class=\"dataframe\">\n",
       "  <thead>\n",
       "    <tr style=\"text-align: right;\">\n",
       "      <th></th>\n",
       "      <th>Student</th>\n",
       "      <th>Proficiency</th>\n",
       "      <th>Ground Truth</th>\n",
       "      <th>IsCorrect</th>\n",
       "      <th>Transcript</th>\n",
       "      <th>Confidence</th>\n",
       "      <th>Distance</th>\n",
       "    </tr>\n",
       "  </thead>\n",
       "  <tbody>\n",
       "    <tr>\n",
       "      <td>0</td>\n",
       "      <td>1378_HI_S1_S_0</td>\n",
       "      <td>S</td>\n",
       "      <td>Where is your house?</td>\n",
       "      <td>1.0</td>\n",
       "      <td>where is your home</td>\n",
       "      <td>0.929955</td>\n",
       "      <td>0.866025</td>\n",
       "    </tr>\n",
       "    <tr>\n",
       "      <td>1</td>\n",
       "      <td>1384_HI_S1_S_0</td>\n",
       "      <td>S</td>\n",
       "      <td>Where is your house?</td>\n",
       "      <td>1.0</td>\n",
       "      <td>where is your house</td>\n",
       "      <td>0.929955</td>\n",
       "      <td>1.000000</td>\n",
       "    </tr>\n",
       "    <tr>\n",
       "      <td>2</td>\n",
       "      <td>1389_HI_S1_S_0</td>\n",
       "      <td>S</td>\n",
       "      <td>Where is your house?</td>\n",
       "      <td>1.0</td>\n",
       "      <td>where is your house</td>\n",
       "      <td>0.929955</td>\n",
       "      <td>1.000000</td>\n",
       "    </tr>\n",
       "    <tr>\n",
       "      <td>3</td>\n",
       "      <td>1399_HI_S1_S_0</td>\n",
       "      <td>S</td>\n",
       "      <td>Where is your house?</td>\n",
       "      <td>1.0</td>\n",
       "      <td>where is your house</td>\n",
       "      <td>0.929955</td>\n",
       "      <td>1.000000</td>\n",
       "    </tr>\n",
       "    <tr>\n",
       "      <td>4</td>\n",
       "      <td>1402_HI_S1_S_0</td>\n",
       "      <td>S</td>\n",
       "      <td>Where is your house?</td>\n",
       "      <td>1.0</td>\n",
       "      <td>where is your house</td>\n",
       "      <td>0.929955</td>\n",
       "      <td>1.000000</td>\n",
       "    </tr>\n",
       "  </tbody>\n",
       "</table>\n",
       "</div>"
      ],
      "text/plain": [
       "          Student Proficiency          Ground Truth  IsCorrect  \\\n",
       "0  1378_HI_S1_S_0           S  Where is your house?        1.0   \n",
       "1  1384_HI_S1_S_0           S  Where is your house?        1.0   \n",
       "2  1389_HI_S1_S_0           S  Where is your house?        1.0   \n",
       "3  1399_HI_S1_S_0           S  Where is your house?        1.0   \n",
       "4  1402_HI_S1_S_0           S  Where is your house?        1.0   \n",
       "\n",
       "            Transcript Confidence  Distance  \n",
       "0   where is your home   0.929955  0.866025  \n",
       "1  where is your house   0.929955  1.000000  \n",
       "2  where is your house   0.929955  1.000000  \n",
       "3  where is your house   0.929955  1.000000  \n",
       "4  where is your house   0.929955  1.000000  "
      ]
     },
     "execution_count": 9,
     "metadata": {},
     "output_type": "execute_result"
    }
   ],
   "source": [
    "output=df\n",
    "output = df.replace(True,1)\n",
    "output = df.replace(False,0)\n",
    "output.head()"
   ]
  },
  {
   "cell_type": "code",
   "execution_count": 10,
   "metadata": {},
   "outputs": [],
   "source": [
    "output_file = r'english_distance.csv'\n",
    "output.to_csv(output_file, index=False)"
   ]
  },
  {
   "cell_type": "code",
   "execution_count": 11,
   "metadata": {},
   "outputs": [
    {
     "data": {
      "text/plain": [
       "Where is your house?      760\n",
       "What is the time?         658\n",
       "I like to read.           447\n",
       "This is a small bag.      424\n",
       "I have a fat  dog .       341\n",
       "I like to play.           327\n",
       "This is a red ball.       297\n",
       "I like to sing.           273\n",
       "I like to sleep.          268\n",
       "I have a small house.     261\n",
       "This is a big bus.        256\n",
       "This is a blue shirt.     250\n",
       "I have a big house.       223\n",
       "I have a fat cat.         220\n",
       "This is a large house.     61\n",
       "She has many books.        53\n",
       "This is a long road.       46\n",
       "This is a tall tree.       38\n",
       "She has a green kite.      36\n",
       "She has a red dress.       29\n",
       "This is a small door.      29\n",
       "He has a blue shirt.       22\n",
       "Name: Ground Truth, dtype: int64"
      ]
     },
     "execution_count": 11,
     "metadata": {},
     "output_type": "execute_result"
    }
   ],
   "source": [
    "output['Ground Truth'].value_counts()"
   ]
  },
  {
   "cell_type": "code",
   "execution_count": 12,
   "metadata": {},
   "outputs": [
    {
     "name": "stdout",
     "output_type": "stream",
     "text": [
      "       IsCorrect     Distance\n",
      "count     1281.0  1281.000000\n",
      "mean         0.0     0.443154\n",
      "std          0.0     0.416643\n",
      "min          0.0     0.000000\n",
      "25%          0.0     0.000000\n",
      "50%          0.0     0.577350\n",
      "75%          0.0     0.816497\n",
      "max          0.0     1.000000\n",
      "       IsCorrect     Distance\n",
      "count     4038.0  4038.000000\n",
      "mean         1.0     0.883299\n",
      "std          0.0     0.247145\n",
      "min          1.0     0.000000\n",
      "25%          1.0     0.866025\n",
      "50%          1.0     1.000000\n",
      "75%          1.0     1.000000\n",
      "max          1.0     1.000000\n"
     ]
    }
   ],
   "source": [
    "print(output[output['IsCorrect']==0].describe())\n",
    "print(output[output['IsCorrect']==1].describe())"
   ]
  },
  {
   "cell_type": "code",
   "execution_count": 13,
   "metadata": {},
   "outputs": [
    {
     "data": {
      "text/html": [
       "<div>\n",
       "<style scoped>\n",
       "    .dataframe tbody tr th:only-of-type {\n",
       "        vertical-align: middle;\n",
       "    }\n",
       "\n",
       "    .dataframe tbody tr th {\n",
       "        vertical-align: top;\n",
       "    }\n",
       "\n",
       "    .dataframe thead th {\n",
       "        text-align: right;\n",
       "    }\n",
       "</style>\n",
       "<table border=\"1\" class=\"dataframe\">\n",
       "  <thead>\n",
       "    <tr style=\"text-align: right;\">\n",
       "      <th></th>\n",
       "      <th>IsCorrect</th>\n",
       "      <th>Distance</th>\n",
       "    </tr>\n",
       "  </thead>\n",
       "  <tbody>\n",
       "    <tr>\n",
       "      <td>count</td>\n",
       "      <td>2562.000000</td>\n",
       "      <td>2562.000000</td>\n",
       "    </tr>\n",
       "    <tr>\n",
       "      <td>mean</td>\n",
       "      <td>0.500000</td>\n",
       "      <td>0.649299</td>\n",
       "    </tr>\n",
       "    <tr>\n",
       "      <td>std</td>\n",
       "      <td>0.500098</td>\n",
       "      <td>0.410117</td>\n",
       "    </tr>\n",
       "    <tr>\n",
       "      <td>min</td>\n",
       "      <td>0.000000</td>\n",
       "      <td>0.000000</td>\n",
       "    </tr>\n",
       "    <tr>\n",
       "      <td>25%</td>\n",
       "      <td>0.000000</td>\n",
       "      <td>0.000000</td>\n",
       "    </tr>\n",
       "    <tr>\n",
       "      <td>50%</td>\n",
       "      <td>0.500000</td>\n",
       "      <td>0.816497</td>\n",
       "    </tr>\n",
       "    <tr>\n",
       "      <td>75%</td>\n",
       "      <td>1.000000</td>\n",
       "      <td>1.000000</td>\n",
       "    </tr>\n",
       "    <tr>\n",
       "      <td>max</td>\n",
       "      <td>1.000000</td>\n",
       "      <td>1.000000</td>\n",
       "    </tr>\n",
       "  </tbody>\n",
       "</table>\n",
       "</div>"
      ],
      "text/plain": [
       "         IsCorrect     Distance\n",
       "count  2562.000000  2562.000000\n",
       "mean      0.500000     0.649299\n",
       "std       0.500098     0.410117\n",
       "min       0.000000     0.000000\n",
       "25%       0.000000     0.000000\n",
       "50%       0.500000     0.816497\n",
       "75%       1.000000     1.000000\n",
       "max       1.000000     1.000000"
      ]
     },
     "execution_count": 13,
     "metadata": {},
     "output_type": "execute_result"
    }
   ],
   "source": [
    "backup=output[['IsCorrect', 'Ground Truth','Confidence','Distance']].copy()\n",
    "\n",
    "correct=output[output['IsCorrect']==1][0:1281]\n",
    "incorrect=output[output['IsCorrect']==0]\n",
    "output=correct.append(incorrect)\n",
    "output.describe()"
   ]
  },
  {
   "cell_type": "code",
   "execution_count": 14,
   "metadata": {},
   "outputs": [
    {
     "data": {
      "text/plain": [
       "Where is your house?      503\n",
       "This is a small bag.      424\n",
       "I like to read.           402\n",
       "I have a fat  dog .       341\n",
       "What is the time?         269\n",
       "This is a red ball.        83\n",
       "I have a small house.      70\n",
       "This is a blue shirt.      63\n",
       "I like to sleep.           61\n",
       "I like to play.            57\n",
       "This is a big bus.         57\n",
       "I like to sing.            56\n",
       "I have a fat cat.          45\n",
       "I have a big house.        39\n",
       "This is a large house.     29\n",
       "She has many books.        15\n",
       "This is a long road.       10\n",
       "He has a blue shirt.        9\n",
       "She has a green kite.       8\n",
       "This is a small door.       8\n",
       "This is a tall tree.        7\n",
       "She has a red dress.        6\n",
       "Name: Ground Truth, dtype: int64"
      ]
     },
     "execution_count": 14,
     "metadata": {},
     "output_type": "execute_result"
    }
   ],
   "source": [
    "output['Ground Truth'].value_counts()"
   ]
  },
  {
   "cell_type": "code",
   "execution_count": 15,
   "metadata": {},
   "outputs": [
    {
     "name": "stdout",
     "output_type": "stream",
     "text": [
      "Random Forest Model Trained on 2049 samples; Tested on 513 samples\n"
     ]
    }
   ],
   "source": [
    "# Simple model\n",
    "output\n",
    "df_model = output[['IsCorrect', 'Ground Truth','Confidence','Distance']].copy()\n",
    "df_model = pd.get_dummies(df_model)\n",
    "random_seed = 2\n",
    "X = df_model[[x for x in df_model.columns if x!='IsCorrect']]\n",
    "y = df_model['IsCorrect']\n",
    "X_train, X_test, y_train, y_test = train_test_split(X, y, test_size=0.2, random_state=random_seed, stratify=y)\n",
    "rf = RandomForestClassifier(n_estimators=100, max_depth=20, random_state=random_seed)\n",
    "rf.fit(X_train, y_train)\n",
    "#y_pred=rf.predict(X_test)\n",
    "y_pred_prob = [y[1] for y in rf.predict_proba(X_test)]\n",
    "print('Random Forest Model Trained on {0} samples; Tested on {1} samples'.format(len(y_train), len(y_test)))"
   ]
  },
  {
   "cell_type": "code",
   "execution_count": 16,
   "metadata": {},
   "outputs": [],
   "source": [
    "# Results over different thresholds\n",
    "thresholds = np.arange(0.3, 0.8, 0.15)\n",
    "threshold_performance = {}\n",
    "for t in thresholds:\n",
    "    y_pred_binary = [int(p>t) for p in y_pred_prob]\n",
    "    #print(y_pred_binary,\"-----\")\n",
    "    summary_data = {}\n",
    "    summary_data['F1'] = f1_score(y_test, y_pred_binary)\n",
    "    summary_data['Precision'] = precision_score(y_test, y_pred_binary)\n",
    "    summary_data['Recall'] = recall_score(y_test, y_pred_binary)\n",
    "    summary_data['Accuracy'] = accuracy_score(y_test, y_pred_binary)\n",
    "    summary_data['AUC'] = roc_auc_score(y_test, y_pred_prob)\n",
    "    summary_data['pred_binary'] = Counter(y_pred_binary)\n",
    "    threshold_performance[round(t, 2)] = summary_data"
   ]
  },
  {
   "cell_type": "code",
   "execution_count": 17,
   "metadata": {},
   "outputs": [
    {
     "data": {
      "image/png": "[encoded data removed]",
      "text/plain": [
       "<matplotlib.figure.Figure at 0x1d64d2e2240>"
      ]
     },
     "metadata": {
      "needs_background": "light"
     },
     "output_type": "display_data"
    }
   ],
   "source": [
    "# Plot\n",
    "threshold_performance_data = []\n",
    "for k, v in threshold_performance.items():\n",
    "    threshold_performance_data.append([k, v['Precision'], v['Recall'], v['F1'], v['Accuracy'], v['pred_binary']])\n",
    "threshold_df = pd.DataFrame(threshold_performance_data, columns=['Threshold', 'Precision', 'Recall', 'F1', 'Accuracy', 'pred_binary'])\n",
    "threshold_df.set_index('Threshold', inplace=True)\n",
    "threshold_df.plot()\n",
    "plt.show()"
   ]
  },
  {
   "cell_type": "code",
   "execution_count": 18,
   "metadata": {},
   "outputs": [
    {
     "data": {
      "text/html": [
       "<div>\n",
       "<style scoped>\n",
       "    .dataframe tbody tr th:only-of-type {\n",
       "        vertical-align: middle;\n",
       "    }\n",
       "\n",
       "    .dataframe tbody tr th {\n",
       "        vertical-align: top;\n",
       "    }\n",
       "\n",
       "    .dataframe thead th {\n",
       "        text-align: right;\n",
       "    }\n",
       "</style>\n",
       "<table border=\"1\" class=\"dataframe\">\n",
       "  <thead>\n",
       "    <tr style=\"text-align: right;\">\n",
       "      <th></th>\n",
       "      <th>Precision</th>\n",
       "      <th>Recall</th>\n",
       "      <th>F1</th>\n",
       "      <th>Accuracy</th>\n",
       "      <th>pred_binary</th>\n",
       "    </tr>\n",
       "    <tr>\n",
       "      <th>Threshold</th>\n",
       "      <th></th>\n",
       "      <th></th>\n",
       "      <th></th>\n",
       "      <th></th>\n",
       "      <th></th>\n",
       "    </tr>\n",
       "  </thead>\n",
       "  <tbody>\n",
       "    <tr>\n",
       "      <td>0.45</td>\n",
       "      <td>0.841912</td>\n",
       "      <td>0.894531</td>\n",
       "      <td>0.867424</td>\n",
       "      <td>0.863548</td>\n",
       "      <td>{0: 241, 1: 272}</td>\n",
       "    </tr>\n",
       "  </tbody>\n",
       "</table>\n",
       "</div>"
      ],
      "text/plain": [
       "           Precision    Recall        F1  Accuracy       pred_binary\n",
       "Threshold                                                           \n",
       "0.45        0.841912  0.894531  0.867424  0.863548  {0: 241, 1: 272}"
      ]
     },
     "execution_count": 18,
     "metadata": {},
     "output_type": "execute_result"
    }
   ],
   "source": [
    "# Best threshold\n",
    "threshold_df.sort_values('Accuracy', ascending=False).head(1)"
   ]
  },
  {
   "cell_type": "code",
   "execution_count": 19,
   "metadata": {},
   "outputs": [
    {
     "data": {
      "text/plain": [
       "0.5"
      ]
     },
     "execution_count": 19,
     "metadata": {},
     "output_type": "execute_result"
    }
   ],
   "source": [
    "# Data: 1 vs 0\n",
    "Counter(y)[1]/len(y)"
   ]
  },
  {
   "cell_type": "code",
   "execution_count": null,
   "metadata": {},
   "outputs": [],
   "source": []
  }
 ],
 "metadata": {
  "kernelspec": {
   "display_name": "Python 3",
   "language": "python",
   "name": "python3"
  },
  "language_info": {
   "codemirror_mode": {
    "name": "ipython",
    "version": 3
   },
   "file_extension": ".py",
   "mimetype": "text/x-python",
   "name": "python",
   "nbconvert_exporter": "python",
   "pygments_lexer": "ipython3",
   "version": "3.5.6"
  }
 },
 "nbformat": 4,
 "nbformat_minor": 2
}
