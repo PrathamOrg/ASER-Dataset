{
 "cells": [
  {
   "cell_type": "code",
   "execution_count": null,
   "metadata": {},
   "outputs": [],
   "source": [
    "import speech_recognition as sr\n",
    "import pandas as pd\n",
    "\n",
    "def speechRecognize(file,GT,ic,st,pf):\n",
    "    r = sr.Recognizer()\n",
    "    with sr.WavFile(file) as source:              # use \"test.wav\" as the audio source\n",
    "        audio = r.record(source)                        # extract audio data from the file\n",
    "\n",
    "    try:\n",
    "        print(\"File: \",file)\n",
    "        list = r.recognize_google(audio,language='en-IN',show_all=True)                  # generate a list of possible transcriptions\n",
    "        print(\"Possible transcriptions:\",list)\n",
    "        if len(list)==0:\n",
    "            return 0\n",
    "        else:\n",
    "            alt=list['alternative']\n",
    "            alt=alt[0:5]\n",
    "            df=pd.DataFrame()\n",
    "            l=[st,pf,GT,ic]\n",
    "        #    for i in range(0,len(alt)):\n",
    "            l.append(alt[0]['transcript'])\n",
    "            l.append(alt[0]['confidence'])\n",
    "        #    if len(alt)<5:\n",
    "         #       for i in range(0,5-len(alt)):\n",
    "          #          l.append(None)\n",
    "            print(l)\n",
    "            return l\n",
    "  #  for prediction in list:\n",
    "       #  print(\" \" + prediction)\n",
    "    except LookupError:                                 # speech is unintelligible\n",
    "        print(\"Could not understand audio\")\n",
    "        return 0"
   ]
  },
  {
   "cell_type": "code",
   "execution_count": null,
   "metadata": {},
   "outputs": [],
   "source": [
    "import json\n",
    "import os\n",
    "from shutil import copyfile\n",
    "import subprocess as shell\n",
    "from os import path\n",
    "from pydub import AudioSegment\n",
    "import os\n"
   ]
  },
  {
   "cell_type": "code",
   "execution_count": null,
   "metadata": {},
   "outputs": [],
   "source": [
    "target_data_path = r\"Dataset\\processed\\english\"\n",
    "processedfolders = [x[0] for x in os.walk(target_data_path) if x[0]!=target_data_path]\n",
    "#df=pd.DataFrame()\n",
    "for s in processedfolders:\n",
    "    tfiles = [x for x in os.listdir(s) if x.endswith('.txt')]\n",
    "    if len(tfiles)==1:\n",
    "        with open(os.path.join(s, tfiles[0]), 'r', encoding='utf-8', errors='ignore') as jf:\n",
    "            GT = jf.read()\n",
    "            print(GT)\n",
    "        \n",
    "        #wavfiles = [x for x in os.listdir(s) if x.endswith('.wav')]\n",
    "        che=s.split('\\\\')[-2]\n",
    "        if(che!='S'):\n",
    "            print(\"Skipping Loop as s=\",s)\n",
    "            continue\n",
    "        correctaudiofolders=os.path.join(s,\"right\")\n",
    "        if not(os.path.exists(correctaudiofolders)):\n",
    "            print(\"Unable to find directory {0}\".format(correctaudiofolders))\n",
    "        else:\n",
    "            cwavfiles = [x for x in os.listdir(correctaudiofolders) if x.endswith('.wav')]\n",
    "            print(\"Correct WF:-\",cwavfiles)     \n",
    "            for w in cwavfiles:\n",
    "                audiofile=os.path.join(correctaudiofolders,w)\n",
    "                ic='True'\n",
    "                st=w.split(\".\")[0]\n",
    "                pf=w.split(\"_\")[-2]\n",
    "                transcript=speechRecognize(audiofile,GT,ic,st,pf)\n",
    "                print(\"transcript:-\",transcript)\n",
    "                if transcript==0:\n",
    "                    transcript=[st,pf,GT,ic,None,None]\n",
    "                print(\"transcript2:-\",transcript)\n",
    "                temp = pd.DataFrame([transcript], columns=['Student','Proficiency','Ground Truth','IsCorrect','Transcript','Confidence'])\n",
    "                print(\"Temp:-\",temp)\n",
    "                df=df.append(temp)\n",
    "                print(\"DF:-\",df)\n",
    "        \n",
    "        wrongaudiofolders=os.path.join(s,\"wrong\")\n",
    "        if not(os.path.exists(wrongaudiofolders)):\n",
    "            print(\"Unable to find directory {0}\".format(wrongaudiofolders))\n",
    "        else:\n",
    "            wwavfiles = [x for x in os.listdir(wrongaudiofolders) if x.endswith('.wav')]\n",
    "            print(\"Wrong WF:-\",wwavfiles)\n",
    "            for w in wwavfiles:\n",
    "                audiofile=os.path.join(wrongaudiofolders,w)\n",
    "                ic='False'\n",
    "                st=w.split(\".\")[0]\n",
    "                pf=w.split(\"_\")[-2]\n",
    "                transcript=speechRecognize(audiofile,GT,ic,st,pf)\n",
    "                print(\"transcript:-\",transcript)\n",
    "                if transcript==0:\n",
    "                    transcript=[st,pf,GT,ic,None,None]\n",
    "                print(\"transcript2:-\",transcript)\n",
    "                temp = pd.DataFrame([transcript], columns=['Student','Proficiency','Ground Truth','IsCorrect','Transcript','Confidence'])\n",
    "                print(\"Temp:-\",temp)\n",
    "                df=df.append(temp)\n",
    "                print(\"DF:-\",df)\n",
    "    else:\n",
    "        print('{0} does not have unique text file: {1}. Skip'.format(s, tfiles))\n",
    "    "
   ]
  },
  {
   "cell_type": "code",
   "execution_count": null,
   "metadata": {},
   "outputs": [],
   "source": [
    "df.head()\n",
    "df.describe()"
   ]
  },
  {
   "cell_type": "code",
   "execution_count": null,
   "metadata": {},
   "outputs": [],
   "source": [
    "df.to_csv(r\"english.csv\",encoding=\"utf-8\",index=False)"
   ]
  }
 ],
 "metadata": {
  "kernelspec": {
   "display_name": "Python 3",
   "language": "python",
   "name": "python3"
  },
  "language_info": {
   "codemirror_mode": {
    "name": "ipython",
    "version": 3
   },
   "file_extension": ".py",
   "mimetype": "text/x-python",
   "name": "python",
   "nbconvert_exporter": "python",
   "pygments_lexer": "ipython3",
   "version": "3.5.6"
  }
 },
 "nbformat": 4,
 "nbformat_minor": 2
}
